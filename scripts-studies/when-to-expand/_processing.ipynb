{
 "cells": [
  {
   "cell_type": "code",
   "execution_count": 1,
   "metadata": {},
   "outputs": [],
   "source": [
    "# ruff: noqa: F401\n",
    "import _config\n",
    "\n",
    "from continual_learning.continual_metrics import compute_continual_metrics, get_task_matrices\n",
    "from tools.io_utils import load_json\n",
    "\n",
    "import os\n",
    "\n",
    "from typing import Dict, Any\n",
    "\n",
    "# Results directory\n",
    "RESULTS_CAPACITIES_DIR = \"results-capacities\""
   ]
  },
  {
   "cell_type": "markdown",
   "metadata": {},
   "source": [
    "General functions to be used in the processing of the results:"
   ]
  },
  {
   "cell_type": "code",
   "execution_count": 2,
   "metadata": {},
   "outputs": [],
   "source": [
    "def read_experiment_results(experiment_dir: str) -> Dict[str, Any]:\n",
    "    \"\"\"\n",
    "    Read the results of an experiment.\n",
    "    \"\"\"\n",
    "    history_json_path = os.path.join(experiment_dir, \"history.json\")\n",
    "    history = load_json(history_json_path)\n",
    "    return history"
   ]
  },
  {
   "cell_type": "markdown",
   "metadata": {},
   "source": [
    "### 1. Initialisations"
   ]
  },
  {
   "cell_type": "code",
   "execution_count": 9,
   "metadata": {},
   "outputs": [],
   "source": [
    "from collections import defaultdict\n",
    "import numpy as np\n",
    "\n",
    "TEST_DIR = \"cifar10@5-e1\"\n",
    "\n",
    "experiment_dirs = os.listdir(os.path.join(RESULTS_CAPACITIES_DIR, TEST_DIR, \"models\"))\n",
    "\n",
    "# Group experiment data\n",
    "experiment_data = defaultdict(lambda: defaultdict(list))\n",
    "\n",
    "for experiment_name in experiment_dirs:\n",
    "    experiment_dir = os.path.join(RESULTS_CAPACITIES_DIR, TEST_DIR, \"models\", experiment_name)\n",
    "\n",
    "    # Get the settings from the experiment name\n",
    "    try:\n",
    "        tau_at, seed = experiment_name.split(\"-\")\n",
    "        tau_value = tau_at.lstrip(\"tau\")\n",
    "        experiment_results = read_experiment_results(experiment_dir)\n",
    "\n",
    "        # Get the training metrics\n",
    "        training_metrics = experiment_results[\"training_metrics\"][\"validation\"]\n",
    "        accuracies = [task_data[\"accuracy\"] for task_data in training_metrics.values()]\n",
    "        flatness = [task_data[\"flatness\"] for task_data in training_metrics.values()]\n",
    "\n",
    "        # Store the metrics in the experiment data\n",
    "        experiment_data[f\"{tau_value}\"][\"accuracies\"].append(accuracies)\n",
    "        experiment_data[f\"{tau_value}\"][\"flatness\"].append(flatness)\n",
    "    except:\n",
    "        print(f\"Error with experiment {experiment_name}\")\n",
    "        \n",
    "# Aggregate the experiment data\n",
    "experiment_data = {\n",
    "    key: {\n",
    "        \"accuracies\": np.mean(value[\"accuracies\"], axis=0),\n",
    "        \"flatness\": np.mean(value[\"flatness\"], axis=0),\n",
    "    }\n",
    "    for key, value in experiment_data.items()\n",
    "}"
   ]
  },
  {
   "cell_type": "code",
   "execution_count": 10,
   "metadata": {},
   "outputs": [
    {
     "name": "stdout",
     "output_type": "stream",
     "text": [
      "0.08\n"
     ]
    }
   ],
   "source": [
    "# Get the setting with best mean accuracy\n",
    "best_setting = max(experiment_data, key=lambda x: np.mean(experiment_data[x][\"accuracies\"]))\n",
    "print(best_setting)"
   ]
  },
  {
   "cell_type": "code",
   "execution_count": null,
   "metadata": {},
   "outputs": [],
   "source": []
  }
 ],
 "metadata": {
  "kernelspec": {
   "display_name": "continual-nas",
   "language": "python",
   "name": "python3"
  },
  "language_info": {
   "codemirror_mode": {
    "name": "ipython",
    "version": 3
   },
   "file_extension": ".py",
   "mimetype": "text/x-python",
   "name": "python",
   "nbconvert_exporter": "python",
   "pygments_lexer": "ipython3",
   "version": "3.10.15"
  }
 },
 "nbformat": 4,
 "nbformat_minor": 2
}
